{
 "cells": [
  {
   "cell_type": "code",
   "execution_count": 1,
   "metadata": {},
   "outputs": [
    {
     "name": "stderr",
     "output_type": "stream",
     "text": [
      "/tmp/tmpsxrkqvm6.out: /tmp/tmppy4qgg1d.out: undefined symbol: main\n",
      "[C kernel] Executable exited with code 1"
     ]
    }
   ],
   "source": [
    "#include <stdio.h>\n",
    "#include <stdlib.h>\n",
    "#include <string.h>\n",
    "#include <stddef.h>"
   ]
  },
  {
   "cell_type": "code",
   "execution_count": 5,
   "metadata": {},
   "outputs": [
    {
     "name": "stderr",
     "output_type": "stream",
     "text": [
      "/tmp/tmpvt9xxi9j.c: In function ‘getfield’:\n",
      "/tmp/tmpvt9xxi9j.c:4:16: warning: implicit declaration of function ‘strtok’ [-Wimplicit-function-declaration]\n",
      "     for (tok = strtok(line, \";\");\n",
      "                ^~~~~~\n",
      "/tmp/tmpvt9xxi9j.c:4:14: warning: assignment to ‘const char *’ from ‘int’ makes pointer from integer without a cast [-Wint-conversion]\n",
      "     for (tok = strtok(line, \";\");\n",
      "              ^\n",
      "/tmp/tmpvt9xxi9j.c:6:26: error: ‘NULL’ undeclared (first use in this function)\n",
      "             tok = strtok(NULL, \";\\n\"))\n",
      "                          ^~~~\n",
      "/tmp/tmpvt9xxi9j.c:6:26: note: ‘NULL’ is defined in header ‘<stddef.h>’; did you forget to ‘#include <stddef.h>’?\n",
      "/tmp/tmpvt9xxi9j.c:1:1:\n",
      "+#include <stddef.h>\n",
      " const char* getfield(char* line, int num)\n",
      "/tmp/tmpvt9xxi9j.c:6:26:\n",
      "             tok = strtok(NULL, \";\\n\"))\n",
      "                          ^~~~\n",
      "/tmp/tmpvt9xxi9j.c:6:26: note: each undeclared identifier is reported only once for each function it appears in\n",
      "/tmp/tmpvt9xxi9j.c: In function ‘main’:\n",
      "/tmp/tmpvt9xxi9j.c:16:5: error: unknown type name ‘FILE’\n",
      "     FILE* stream = fopen(\"input\", \"r\");\n",
      "     ^~~~\n",
      "/tmp/tmpvt9xxi9j.c:16:5: note: ‘FILE’ is defined in header ‘<stdio.h>’; did you forget to ‘#include <stdio.h>’?\n",
      "/tmp/tmpvt9xxi9j.c:1:1:\n",
      "+#include <stdio.h>\n",
      " const char* getfield(char* line, int num)\n",
      "/tmp/tmpvt9xxi9j.c:16:5:\n",
      "     FILE* stream = fopen(\"input\", \"r\");\n",
      "     ^~~~\n",
      "/tmp/tmpvt9xxi9j.c:16:20: warning: implicit declaration of function ‘fopen’ [-Wimplicit-function-declaration]\n",
      "     FILE* stream = fopen(\"input\", \"r\");\n",
      "                    ^~~~~\n",
      "/tmp/tmpvt9xxi9j.c:16:20: note: ‘fopen’ is defined in header ‘<stdio.h>’; did you forget to ‘#include <stdio.h>’?\n",
      "/tmp/tmpvt9xxi9j.c:16:20: warning: initialization of ‘int *’ from ‘int’ makes pointer from integer without a cast [-Wint-conversion]\n",
      "/tmp/tmpvt9xxi9j.c:19:12: warning: implicit declaration of function ‘fgets’ [-Wimplicit-function-declaration]\n",
      "     while (fgets(line, 1024, stream))\n",
      "            ^~~~~\n",
      "/tmp/tmpvt9xxi9j.c:21:21: warning: implicit declaration of function ‘strdup’ [-Wimplicit-function-declaration]\n",
      "         char* tmp = strdup(line);\n",
      "                     ^~~~~~\n",
      "/tmp/tmpvt9xxi9j.c:21:21: warning: initialization of ‘char *’ from ‘int’ makes pointer from integer without a cast [-Wint-conversion]\n",
      "/tmp/tmpvt9xxi9j.c:22:9: warning: implicit declaration of function ‘printf’ [-Wimplicit-function-declaration]\n",
      "         printf(\"Field 3 would be %s\\n\", getfield(tmp, 3));\n",
      "         ^~~~~~\n",
      "/tmp/tmpvt9xxi9j.c:22:9: warning: incompatible implicit declaration of built-in function ‘printf’\n",
      "/tmp/tmpvt9xxi9j.c:22:9: note: include ‘<stdio.h>’ or provide a declaration of ‘printf’\n",
      "/tmp/tmpvt9xxi9j.c:24:9: warning: implicit declaration of function ‘free’ [-Wimplicit-function-declaration]\n",
      "         free(tmp);\n",
      "         ^~~~\n",
      "/tmp/tmpvt9xxi9j.c:24:9: warning: incompatible implicit declaration of built-in function ‘free’\n",
      "/tmp/tmpvt9xxi9j.c:24:9: note: include ‘<stdlib.h>’ or provide a declaration of ‘free’\n",
      "/tmp/tmpvt9xxi9j.c:1:1:\n",
      "+#include <stdlib.h>\n",
      " const char* getfield(char* line, int num)\n",
      "/tmp/tmpvt9xxi9j.c:24:9:\n",
      "         free(tmp);\n",
      "         ^~~~\n",
      "[C kernel] GCC exited with code 1, the executable will not be executed"
     ]
    }
   ],
   "source": [
    "const char* getfield(char* line, int num)\n",
    "{\n",
    "    const char* tok;\n",
    "    for (tok = strtok(line, \";\");\n",
    "            tok && *tok;\n",
    "            tok = strtok(NULL, \";\\n\"))\n",
    "    {\n",
    "        if (!--num)\n",
    "            return tok;\n",
    "    }\n",
    "    return NULL;\n",
    "}\n",
    "\n",
    "int main()\n",
    "{\n",
    "    FILE* stream = fopen(\"input\", \"r\");\n",
    "\n",
    "    char line[1024];\n",
    "    while (fgets(line, 1024, stream))\n",
    "    {\n",
    "        char* tmp = strdup(line);\n",
    "        printf(\"Field 3 would be %s\\n\", getfield(tmp, 3));\n",
    "        // NOTE strtok clobbers tmp\n",
    "        free(tmp);\n",
    "    }\n",
    "}"
   ]
  },
  {
   "cell_type": "code",
   "execution_count": 3,
   "metadata": {},
   "outputs": [
    {
     "name": "stderr",
     "output_type": "stream",
     "text": [
      "/tmp/tmp67x66uli.c:1:8: error: expected declaration specifiers or ‘...’ before string constant\n",
      " printf(\"What\")\n",
      "        ^~~~~~\n",
      "[C kernel] GCC exited with code 1, the executable will not be executed"
     ]
    }
   ],
   "source": [
    "int main()\n",
    "{\n",
    "    \n",
    "}"
   ]
  },
  {
   "cell_type": "code",
   "execution_count": null,
   "metadata": {},
   "outputs": [],
   "source": []
  }
 ],
 "metadata": {
  "kernelspec": {
   "display_name": "C",
   "language": "c",
   "name": "c"
  },
  "language_info": {
   "file_extension": ".c",
   "mimetype": "text/plain",
   "name": "c"
  }
 },
 "nbformat": 4,
 "nbformat_minor": 2
}
