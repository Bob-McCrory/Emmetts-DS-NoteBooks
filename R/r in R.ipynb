{
 "cells": [
  {
   "cell_type": "markdown",
   "metadata": {},
   "source": [
    "# Calculating r in R\n",
    "So... Funny joke, but let's do this!"
   ]
  },
  {
   "cell_type": "code",
   "execution_count": 13,
   "metadata": {},
   "outputs": [
    {
     "ename": "ERROR",
     "evalue": "Error in parse(text = x, srcfile = src): <text>:1:10: unexpected symbol\n1: function correlationcoeff\n             ^\n",
     "output_type": "error",
     "traceback": [
      "Error in parse(text = x, srcfile = src): <text>:1:10: unexpected symbol\n1: function correlationcoeff\n             ^\nTraceback:\n"
     ]
    }
   ],
   "source": [
    "function correlationcoeff(x,y)\n",
    "    n = length(x)\n",
    "    yl = length(y)\n",
    "    if n != yl\n",
    "        throw(ArgumentError(\"The array shape does not match!\"))\n",
    "    end\n",
    "    xy = x * y\n",
    "    sx = sum(x)\n",
    "    sy = sum(y)\n",
    "    sxy = sum(xy)\n",
    "    x2 = x ^ 2\n",
    "    y2 = y ^ 2\n",
    "    sx2 = sum(x2)\n",
    "    sy2 = sum(y2)\n",
    "    r = ((n*sxy) - (sx * sy)) / (sqrt((((n*sx2)-(sx^2)) * ((n*sy2)-(sy^2)))))\n",
    "    return(r)\n",
    "end"
   ]
  },
  {
   "cell_type": "code",
   "execution_count": 14,
   "metadata": {},
   "outputs": [],
   "source": [
    "correlationcoeff <- function(x,y){\n",
    "    n = length(x)\n",
    "    yl = length(y)\n",
    "    xy = x * y\n",
    "    sx = sum(x)\n",
    "    sy = sum(y)\n",
    "    sxy = sum(xy)\n",
    "    x2 = x ^ 2\n",
    "    y2 = y ^ 2\n",
    "    sx2 = sum(x2)\n",
    "    sy2 = sum(y2)\n",
    "    r = ((n*sxy) - (sx * sy)) / (sqrt((((n*sx2)-(sx^2)) * ((n*sy2)-(sy^2)))))\n",
    "    return(r)\n",
    "}"
   ]
  },
  {
   "cell_type": "code",
   "execution_count": 28,
   "metadata": {},
   "outputs": [
    {
     "data": {
      "text/html": [
       "0.972886945646312"
      ],
      "text/latex": [
       "0.972886945646312"
      ],
      "text/markdown": [
       "0.972886945646312"
      ],
      "text/plain": [
       "[1] 0.9728869"
      ]
     },
     "metadata": {},
     "output_type": "display_data"
    }
   ],
   "source": [
    "correlationcoeff(c(1,5,6,3,4),c(1,5,7,4,5))"
   ]
  },
  {
   "cell_type": "code",
   "execution_count": 25,
   "metadata": {},
   "outputs": [],
   "source": [
    "c <- c(5,4,5,6)"
   ]
  },
  {
   "cell_type": "code",
   "execution_count": 32,
   "metadata": {},
   "outputs": [],
   "source": [
    "r2 <- function(x,y){\n",
    "    r = correlationcoeff(x,y)\n",
    "    r2 = r ^ 2\n",
    "    return(r2)\n",
    "}"
   ]
  },
  {
   "cell_type": "code",
   "execution_count": 33,
   "metadata": {},
   "outputs": [
    {
     "data": {
      "text/html": [
       "0.271739130434783"
      ],
      "text/latex": [
       "0.271739130434783"
      ],
      "text/markdown": [
       "0.271739130434783"
      ],
      "text/plain": [
       "[1] 0.2717391"
      ]
     },
     "metadata": {},
     "output_type": "display_data"
    }
   ],
   "source": [
    "r2(c(1,4,3,5,4),c(1,4,3,2,5))"
   ]
  },
  {
   "cell_type": "markdown",
   "metadata": {},
   "source": [
    "# Model time!"
   ]
  },
  {
   "cell_type": "code",
   "execution_count": 56,
   "metadata": {},
   "outputs": [
    {
     "ename": "ERROR",
     "evalue": "Error in structure(x, y): object 'x' not found\n",
     "output_type": "error",
     "traceback": [
      "Error in structure(x, y): object 'x' not found\nTraceback:\n",
      "1. structure(x, y)"
     ]
    }
   ],
   "source": [
    "llsq <- structure(x,y)"
   ]
  },
  {
   "cell_type": "code",
   "execution_count": 57,
   "metadata": {},
   "outputs": [],
   "source": [
    "pred_linearleastsquare <- function(x,y,xt){\n",
    "        # Summatation of x*y\n",
    "        xy = x * y\n",
    "        sxy = sum(xy)\n",
    "        # N\n",
    "        n = length(x)\n",
    "        # Summatation of x^2\n",
    "        x2 = x ^ 2\n",
    "        sx2 = sum(x2)\n",
    "        # Summatation of x and y\n",
    "        sx = sum(x)\n",
    "        sy = sum(y)\n",
    "        # Calculate the slope:\n",
    "        slope = ((n*sxy) - (sx * sy)) / ((n * sx2) - (sx)^2)\n",
    "        # Calculate the y intercept\n",
    "        b = (sy - (slope*sx)) / n\n",
    "        # Empty prediction list:\n",
    "        y_pred = c()\n",
    "        for (i in xt)\n",
    "        {\n",
    "            pred = (slope*i)+b\n",
    "            y_pred = append(y_pred,pred)\n",
    "        }\n",
    "    return(y_pred)\n",
    "}"
   ]
  },
  {
   "cell_type": "code",
   "execution_count": 50,
   "metadata": {},
   "outputs": [],
   "source": [
    "trainX = c(5,4,3,4,5)\n",
    "trainy = c(15,14,8,12,14)"
   ]
  },
  {
   "cell_type": "code",
   "execution_count": 51,
   "metadata": {},
   "outputs": [],
   "source": [
    "testX = c(9,5,2,8)\n",
    "testy = c(27,15,7,22)"
   ]
  },
  {
   "cell_type": "code",
   "execution_count": 61,
   "metadata": {},
   "outputs": [],
   "source": [
    "y_pred = pred_linearleastsquare(trainX,trainy,testX)"
   ]
  },
  {
   "cell_type": "code",
   "execution_count": 62,
   "metadata": {},
   "outputs": [
    {
     "name": "stdout",
     "output_type": "stream",
     "text": [
      "[1] 27 15  6 24\n"
     ]
    }
   ],
   "source": [
    "print(y_pred)"
   ]
  },
  {
   "cell_type": "code",
   "execution_count": 63,
   "metadata": {},
   "outputs": [
    {
     "data": {
      "text/html": [
       "0.988460124954061"
      ],
      "text/latex": [
       "0.988460124954061"
      ],
      "text/markdown": [
       "0.988460124954061"
      ],
      "text/plain": [
       "[1] 0.9884601"
      ]
     },
     "metadata": {},
     "output_type": "display_data"
    }
   ],
   "source": [
    "r2(y_pred,testy)"
   ]
  },
  {
   "cell_type": "code",
   "execution_count": null,
   "metadata": {},
   "outputs": [],
   "source": []
  }
 ],
 "metadata": {
  "kernelspec": {
   "display_name": "R",
   "language": "R",
   "name": "ir"
  },
  "language_info": {
   "codemirror_mode": "r",
   "file_extension": ".r",
   "mimetype": "text/x-r-source",
   "name": "R",
   "pygments_lexer": "r",
   "version": "3.6.1"
  }
 },
 "nbformat": 4,
 "nbformat_minor": 2
}
